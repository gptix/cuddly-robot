{
 "cells": [
  {
   "cell_type": "markdown",
   "metadata": {},
   "source": [
    "# Train a regressor on a set of embeddings of tweet texts\n",
    "\n",
    "Use **GetOldTweets3** library (available via Pypi)"
   ]
  },
  {
   "cell_type": "markdown",
   "metadata": {},
   "source": [
    "## Install required libraries"
   ]
  },
  {
   "cell_type": "code",
   "execution_count": 1,
   "metadata": {},
   "outputs": [
    {
     "name": "stdout",
     "output_type": "stream",
     "text": [
      "Requirement already satisfied: GetOldTweets3 in /home/gt/anaconda3/lib/python3.7/site-packages (0.0.11)\n",
      "Requirement already satisfied: lxml>=3.5.0 in /home/gt/anaconda3/lib/python3.7/site-packages (from GetOldTweets3) (4.5.0)\n",
      "Requirement already satisfied: pyquery>=1.2.10 in /home/gt/anaconda3/lib/python3.7/site-packages (from GetOldTweets3) (1.4.1)\n",
      "Requirement already satisfied: cssselect>0.7.9 in /home/gt/anaconda3/lib/python3.7/site-packages (from pyquery>=1.2.10->GetOldTweets3) (1.1.0)\n"
     ]
    }
   ],
   "source": [
    "!pip install GetOldTweets3\n",
    "import GetOldTweets3 as got"
   ]
  },
  {
   "cell_type": "code",
   "execution_count": 2,
   "metadata": {},
   "outputs": [],
   "source": [
    "# !pip install basilica # might have to install, if not available in underlying environment"
   ]
  },
  {
   "cell_type": "code",
   "execution_count": 22,
   "metadata": {},
   "outputs": [],
   "source": [
    "import pandas as pd\n",
    "# import json\n",
    "import numpy as np\n",
    "import sklearn.linear_model\n",
    "import sklearn.preprocessing\n",
    "import sklearn.decomposition\n",
    "import basilica\n",
    "import pickle\n",
    "from pathlib import Path\n",
    "import os\n",
    "import matplotlib.pyplot as plt\n",
    "import seaborn as sns"
   ]
  },
  {
   "cell_type": "markdown",
   "metadata": {},
   "source": [
    "## Configure"
   ]
  },
  {
   "cell_type": "code",
   "execution_count": 3,
   "metadata": {},
   "outputs": [
    {
     "data": {
      "text/plain": [
       "'/home/gt/gitstuff/social-media-strategy-ds'"
      ]
     },
     "execution_count": 3,
     "metadata": {},
     "output_type": "execute_result"
    }
   ],
   "source": [
    "twitter_user_name = 'LambdaSchool'\n",
    "count = 100 # during testing\n",
    "API_KEY =  'd54eac04-1ed6-3d8d-8a46-b319018f2faa'\n",
    "\n",
    "os.getcwd()"
   ]
  },
  {
   "cell_type": "markdown",
   "metadata": {},
   "source": [
    "## Data Engineering Functions"
   ]
  },
  {
   "cell_type": "code",
   "execution_count": 4,
   "metadata": {},
   "outputs": [],
   "source": [
    "def retrieve_tweets(twitter_user_name, count):\n",
    "    #  Create object to execute queries\n",
    "    querySpecs = got.manager.TweetCriteria().setUsername(twitter_user_name).setMaxTweets(count)\n",
    "    print('Retrieving tweets via GOT3')\n",
    "    # retrieve tweets\n",
    "    return got.manager.TweetManager.getTweets(querySpecs)\n",
    "\n",
    "def tweet_to_dict(twt):\n",
    "    \"\"\"Munges a twt object into a dict, using names of attributes of\n",
    "    object as keys in dict.\n",
    "    'favorites' is a count of 'likes'\n",
    "    'hashtags' is a string that is a space-separated series of hashtags\n",
    "    'mentions' is a string that is a space-separated series of ats (@s)\n",
    "    'urls' is a string that is a space-separated series of URLs\n",
    "    \"\"\"\n",
    "    return {'date' : twt.date\n",
    "            , 'favorites' : twt.favorites\n",
    "            , 'formatted_date' : twt.formatted_date\n",
    "            , 'geo' : twt.geo\n",
    "            , 'hashtags' : twt.hashtags\n",
    "            , 'id' : twt.id\n",
    "            , 'mentions' : twt.mentions\n",
    "            , 'permalink' : twt.permalink\n",
    "            , 'replies' : twt.replies\n",
    "            , 'retweets' : twt.retweets\n",
    "            , 'text' : twt.text\n",
    "            , 'to' : twt.to\n",
    "            , 'urls' : twt.urls\n",
    "            , 'username' : twt.username}   \n",
    "\n",
    "def munge_date(dt):\n",
    "    \"\"\"Munges a datetime.datetime object into a dict, using names of attributes of\n",
    "    object as keys in dict.\n",
    "    'day_of_week' is [0-7] with 0 being 'Monday'\n",
    "    'minute_of_day' is count of minutes from midnight\"\"\"\n",
    "    return {'year' : dt.year \n",
    "            , 'month' : dt.month\n",
    "            , 'day' : dt.day\n",
    "            , 'day_of_week' : dt.weekday()\n",
    "            , 'hour' : dt.hour\n",
    "            , 'minute' : dt.minute\n",
    "            , 'minute_of_day' : (60 * dt.hour) + dt.minute}\n",
    "\n",
    "def join_dicts(got_tweet_object):\n",
    "    \"\"\"Returns a dict that is the result of joining \n",
    "    - a dict that is the result of parsing a GOT object\n",
    "      to  dict, and\n",
    "    - a dict that is the result of munging the a datetime.date\n",
    "      into a dict.\"\"\"\n",
    "    return {**tweet_to_dict(got_tweet_object), **munge_date(got_tweet_object.date)}\n",
    "\n",
    "def munge_tweet_objects(tweet_objects):\n",
    "    return list(map(join_dicts, tweet_objects))\n"
   ]
  },
  {
   "cell_type": "code",
   "execution_count": 28,
   "metadata": {},
   "outputs": [],
   "source": [
    "# get a set of tweets\n",
    "pickled_fn = './r_tweets.pickle'\n",
    "pickled_path = Path(pickled_fn)\n",
    "\n",
    "# pickled_path.is_file()\n"
   ]
  },
  {
   "cell_type": "code",
   "execution_count": 16,
   "metadata": {},
   "outputs": [
    {
     "name": "stdout",
     "output_type": "stream",
     "text": [
      "Retrieving tweets via GOT3\n",
      "retrieving embeddings via basilica\n"
     ]
    }
   ],
   "source": [
    "retrieved_tweets = retrieve_tweets(twitter_user_name, count)\n",
    "tweet_dicts = munge_tweet_objects(retrieved_tweets)\n",
    "\n",
    "# create a df of embeddings of the texts\n",
    "\n",
    "# get texts for which to get embeddings\n",
    "tweet_texts = [tweet.text for tweet in retrieved_tweets]\n",
    "\n",
    "# get embeddings\n",
    "print('retrieving embeddings via basilica')\n",
    "with basilica.Connection(API_KEY) as conn:\n",
    "    embeddings = list(conn.embed_sentences(tweet_texts))\n",
    "\n",
    "# create dataframe holding embeddings\n",
    "embedding_vals_colnames = ['embed_col' + str(i) for i in range(len(embeddings[0]))]\n",
    "embeddings_df = pd.DataFrame(embeddings, columns=embedding_vals_colnames)\n",
    "\n",
    "# Create dataframe holding only required_time fields\n",
    "columns_not_needed = ['id', 'hashtags', 'replies', 'retweets', 'text', 'favorites', 'mentions',\n",
    "    'to', 'urls', 'year', 'month', 'day', 'date', 'formatted_date', 'permalink', 'username', 'hour', 'minute', 'geo']\n",
    "times_df = pd.DataFrame.from_records(tweet_dicts,  exclude=columns_not_needed)\n",
    "\n"
   ]
  },
  {
   "cell_type": "code",
   "execution_count": 17,
   "metadata": {},
   "outputs": [
    {
     "data": {
      "text/html": [
       "<div>\n",
       "<style scoped>\n",
       "    .dataframe tbody tr th:only-of-type {\n",
       "        vertical-align: middle;\n",
       "    }\n",
       "\n",
       "    .dataframe tbody tr th {\n",
       "        vertical-align: top;\n",
       "    }\n",
       "\n",
       "    .dataframe thead th {\n",
       "        text-align: right;\n",
       "    }\n",
       "</style>\n",
       "<table border=\"1\" class=\"dataframe\">\n",
       "  <thead>\n",
       "    <tr style=\"text-align: right;\">\n",
       "      <th></th>\n",
       "      <th>day_of_week</th>\n",
       "      <th>minute_of_day</th>\n",
       "      <th>embed_col0</th>\n",
       "      <th>embed_col1</th>\n",
       "      <th>embed_col2</th>\n",
       "      <th>embed_col3</th>\n",
       "      <th>embed_col4</th>\n",
       "      <th>embed_col5</th>\n",
       "      <th>embed_col6</th>\n",
       "      <th>embed_col7</th>\n",
       "      <th>...</th>\n",
       "      <th>embed_col758</th>\n",
       "      <th>embed_col759</th>\n",
       "      <th>embed_col760</th>\n",
       "      <th>embed_col761</th>\n",
       "      <th>embed_col762</th>\n",
       "      <th>embed_col763</th>\n",
       "      <th>embed_col764</th>\n",
       "      <th>embed_col765</th>\n",
       "      <th>embed_col766</th>\n",
       "      <th>embed_col767</th>\n",
       "    </tr>\n",
       "  </thead>\n",
       "  <tbody>\n",
       "    <tr>\n",
       "      <th>0</th>\n",
       "      <td>5</td>\n",
       "      <td>1080</td>\n",
       "      <td>0.333295</td>\n",
       "      <td>-0.058294</td>\n",
       "      <td>0.369082</td>\n",
       "      <td>0.374916</td>\n",
       "      <td>0.238671</td>\n",
       "      <td>-0.308427</td>\n",
       "      <td>0.126117</td>\n",
       "      <td>0.199444</td>\n",
       "      <td>...</td>\n",
       "      <td>0.048098</td>\n",
       "      <td>-0.260205</td>\n",
       "      <td>-0.238626</td>\n",
       "      <td>-0.237041</td>\n",
       "      <td>0.285211</td>\n",
       "      <td>0.211573</td>\n",
       "      <td>-0.315337</td>\n",
       "      <td>-0.118808</td>\n",
       "      <td>0.053902</td>\n",
       "      <td>0.290706</td>\n",
       "    </tr>\n",
       "    <tr>\n",
       "      <th>1</th>\n",
       "      <td>5</td>\n",
       "      <td>971</td>\n",
       "      <td>0.283399</td>\n",
       "      <td>0.249766</td>\n",
       "      <td>0.380451</td>\n",
       "      <td>0.107287</td>\n",
       "      <td>-0.151868</td>\n",
       "      <td>-0.390896</td>\n",
       "      <td>0.235933</td>\n",
       "      <td>0.518795</td>\n",
       "      <td>...</td>\n",
       "      <td>0.003423</td>\n",
       "      <td>-0.163032</td>\n",
       "      <td>0.009421</td>\n",
       "      <td>0.070432</td>\n",
       "      <td>0.386311</td>\n",
       "      <td>0.162242</td>\n",
       "      <td>-0.557908</td>\n",
       "      <td>-0.074896</td>\n",
       "      <td>-0.015374</td>\n",
       "      <td>0.050820</td>\n",
       "    </tr>\n",
       "    <tr>\n",
       "      <th>2</th>\n",
       "      <td>4</td>\n",
       "      <td>1380</td>\n",
       "      <td>0.091492</td>\n",
       "      <td>-0.362984</td>\n",
       "      <td>0.255111</td>\n",
       "      <td>0.365398</td>\n",
       "      <td>0.142696</td>\n",
       "      <td>-0.480672</td>\n",
       "      <td>0.107238</td>\n",
       "      <td>0.259079</td>\n",
       "      <td>...</td>\n",
       "      <td>0.129827</td>\n",
       "      <td>-0.281333</td>\n",
       "      <td>-0.046512</td>\n",
       "      <td>-0.457974</td>\n",
       "      <td>0.021936</td>\n",
       "      <td>0.079506</td>\n",
       "      <td>-0.301939</td>\n",
       "      <td>0.104239</td>\n",
       "      <td>0.258840</td>\n",
       "      <td>0.517581</td>\n",
       "    </tr>\n",
       "    <tr>\n",
       "      <th>3</th>\n",
       "      <td>4</td>\n",
       "      <td>937</td>\n",
       "      <td>0.354484</td>\n",
       "      <td>-0.268105</td>\n",
       "      <td>0.173120</td>\n",
       "      <td>0.189463</td>\n",
       "      <td>0.216159</td>\n",
       "      <td>-0.592189</td>\n",
       "      <td>0.362921</td>\n",
       "      <td>0.414445</td>\n",
       "      <td>...</td>\n",
       "      <td>-0.031987</td>\n",
       "      <td>0.018888</td>\n",
       "      <td>-0.322313</td>\n",
       "      <td>-0.274837</td>\n",
       "      <td>0.212215</td>\n",
       "      <td>0.537017</td>\n",
       "      <td>-0.423740</td>\n",
       "      <td>-0.006413</td>\n",
       "      <td>0.204176</td>\n",
       "      <td>0.402765</td>\n",
       "    </tr>\n",
       "    <tr>\n",
       "      <th>4</th>\n",
       "      <td>3</td>\n",
       "      <td>1380</td>\n",
       "      <td>0.592550</td>\n",
       "      <td>-0.227446</td>\n",
       "      <td>0.572407</td>\n",
       "      <td>0.314598</td>\n",
       "      <td>0.324917</td>\n",
       "      <td>-0.613837</td>\n",
       "      <td>-0.104227</td>\n",
       "      <td>0.167334</td>\n",
       "      <td>...</td>\n",
       "      <td>0.046603</td>\n",
       "      <td>-0.586508</td>\n",
       "      <td>-0.160038</td>\n",
       "      <td>-0.380553</td>\n",
       "      <td>-0.024048</td>\n",
       "      <td>0.157183</td>\n",
       "      <td>-0.492330</td>\n",
       "      <td>-0.011132</td>\n",
       "      <td>0.030454</td>\n",
       "      <td>0.676931</td>\n",
       "    </tr>\n",
       "  </tbody>\n",
       "</table>\n",
       "<p>5 rows × 770 columns</p>\n",
       "</div>"
      ],
      "text/plain": [
       "   day_of_week  minute_of_day  embed_col0  embed_col1  embed_col2  embed_col3  \\\n",
       "0            5           1080    0.333295   -0.058294    0.369082    0.374916   \n",
       "1            5            971    0.283399    0.249766    0.380451    0.107287   \n",
       "2            4           1380    0.091492   -0.362984    0.255111    0.365398   \n",
       "3            4            937    0.354484   -0.268105    0.173120    0.189463   \n",
       "4            3           1380    0.592550   -0.227446    0.572407    0.314598   \n",
       "\n",
       "   embed_col4  embed_col5  embed_col6  embed_col7  ...  embed_col758  \\\n",
       "0    0.238671   -0.308427    0.126117    0.199444  ...      0.048098   \n",
       "1   -0.151868   -0.390896    0.235933    0.518795  ...      0.003423   \n",
       "2    0.142696   -0.480672    0.107238    0.259079  ...      0.129827   \n",
       "3    0.216159   -0.592189    0.362921    0.414445  ...     -0.031987   \n",
       "4    0.324917   -0.613837   -0.104227    0.167334  ...      0.046603   \n",
       "\n",
       "   embed_col759  embed_col760  embed_col761  embed_col762  embed_col763  \\\n",
       "0     -0.260205     -0.238626     -0.237041      0.285211      0.211573   \n",
       "1     -0.163032      0.009421      0.070432      0.386311      0.162242   \n",
       "2     -0.281333     -0.046512     -0.457974      0.021936      0.079506   \n",
       "3      0.018888     -0.322313     -0.274837      0.212215      0.537017   \n",
       "4     -0.586508     -0.160038     -0.380553     -0.024048      0.157183   \n",
       "\n",
       "   embed_col764  embed_col765  embed_col766  embed_col767  \n",
       "0     -0.315337     -0.118808      0.053902      0.290706  \n",
       "1     -0.557908     -0.074896     -0.015374      0.050820  \n",
       "2     -0.301939      0.104239      0.258840      0.517581  \n",
       "3     -0.423740     -0.006413      0.204176      0.402765  \n",
       "4     -0.492330     -0.011132      0.030454      0.676931  \n",
       "\n",
       "[5 rows x 770 columns]"
      ]
     },
     "execution_count": 17,
     "metadata": {},
     "output_type": "execute_result"
    }
   ],
   "source": [
    "X_merged = pd.concat([times_df, embeddings_df], axis=1)\n",
    "X_merged.head()"
   ]
  },
  {
   "cell_type": "code",
   "execution_count": null,
   "metadata": {},
   "outputs": [],
   "source": []
  },
  {
   "cell_type": "markdown",
   "metadata": {},
   "source": [
    "## Split into X matrix (embeddings day of week, minute of day) and y vector (retweet or like count)"
   ]
  },
  {
   "cell_type": "code",
   "execution_count": 33,
   "metadata": {},
   "outputs": [],
   "source": [
    "# create the X matrix\n",
    "X = X_df.values"
   ]
  },
  {
   "cell_type": "code",
   "execution_count": 18,
   "metadata": {},
   "outputs": [],
   "source": [
    "# Create two y vectors. Either can be used with an X matrix to train regressors.\n",
    "y_retweets_df = pd.DataFrame.from_records(tweet_dicts,  columns=['retweets'])\n",
    "y_retweets_df = y_retweets_df.fillna(0)\n",
    "y_retweets = y_retweets_df.values\n",
    "\n",
    "y_likes_df = pd.DataFrame.from_records(tweet_dicts,  columns=['favorites'])\n",
    "y_likes_df = y_likes_df.fillna(0)\n",
    "y_likes = y_likes_df.values\n"
   ]
  },
  {
   "cell_type": "code",
   "execution_count": 28,
   "metadata": {},
   "outputs": [
    {
     "data": {
      "image/png": "[encoded data removed]",
      "text/plain": [
       "<Figure size 432x288 with 1 Axes>"
      ]
     },
     "metadata": {
      "needs_background": "light"
     },
     "output_type": "display_data"
    }
   ],
   "source": [
    "y_likes_df.head()\n",
    "y_likes_df['favorites'].hist(bins=100);"
   ]
  },
  {
   "cell_type": "code",
   "execution_count": 31,
   "metadata": {},
   "outputs": [
    {
     "data": {
      "image/png": "[encoded data removed]",
      "text/plain": [
       "<Figure size 432x288 with 1 Axes>"
      ]
     },
     "metadata": {
      "needs_background": "light"
     },
     "output_type": "display_data"
    }
   ],
   "source": [
    "y_retweets_df['retweets'].hist();"
   ]
  },
  {
   "cell_type": "markdown",
   "metadata": {},
   "source": [
    "## Training Regressors"
   ]
  },
  {
   "cell_type": "code",
   "execution_count": 38,
   "metadata": {},
   "outputs": [],
   "source": [
    "import sklearn.linear_model\n",
    "import sklearn.preprocessing\n",
    "import sklearn.model_selection"
   ]
  },
  {
   "cell_type": "code",
   "execution_count": 34,
   "metadata": {},
   "outputs": [],
   "source": [
    "X_train, X_test = sklearn.model_selection.train_test_split(X, random_state=72)"
   ]
  },
  {
   "cell_type": "code",
   "execution_count": 35,
   "metadata": {},
   "outputs": [],
   "source": [
    "y_retweets_train, y_retweets_test = sklearn.model_selection.train_test_split(y_retweets_df, random_state=72)"
   ]
  },
  {
   "cell_type": "code",
   "execution_count": 36,
   "metadata": {},
   "outputs": [],
   "source": [
    "y_likes_train, y_likes_test = sklearn.model_selection.train_test_split(y_likes_df, random_state=72)"
   ]
  },
  {
   "cell_type": "code",
   "execution_count": 70,
   "metadata": {},
   "outputs": [],
   "source": []
  },
  {
   "cell_type": "code",
   "execution_count": 38,
   "metadata": {},
   "outputs": [
    {
     "data": {
      "text/plain": [
       "LinearRegression(copy_X=True, fit_intercept=True, n_jobs=None, normalize=False)"
      ]
     },
     "execution_count": 38,
     "metadata": {},
     "output_type": "execute_result"
    }
   ],
   "source": [
    "retweets_model = sklearn.linear_model.LinearRegression()\n",
    "\n",
    "# print(type(y_likes_train))\n",
    "# print(type(y_likes_train.values))\n",
    "# print(type(y_likes_train.values[0]))\n",
    "\n",
    "retweets_model.fit(X_train, y_likes_train)"
   ]
  },
  {
   "cell_type": "code",
   "execution_count": 44,
   "metadata": {},
   "outputs": [
    {
     "data": {
      "text/plain": [
       "LogisticRegression(C=1.0, class_weight=None, dual=False, fit_intercept=True,\n",
       "                   intercept_scaling=1, l1_ratio=None, max_iter=10000,\n",
       "                   multi_class='auto', n_jobs=None, penalty='l2',\n",
       "                   random_state=None, solver='lbfgs', tol=0.0001, verbose=0,\n",
       "                   warm_start=False)"
      ]
     },
     "execution_count": 44,
     "metadata": {},
     "output_type": "execute_result"
    }
   ],
   "source": [
    "likes_model = sklearn.linear_model.LogisticRegression(max_iter=10000)\n",
    "\n",
    "\n",
    "# the fitting below has been saved to a pickle.\n",
    "# See further below\n",
    "\n",
    "\n",
    "# likes_model.fit(X_train, y_likes_train.values.ravel())\n",
    "# X_train"
   ]
  },
  {
   "cell_type": "code",
   "execution_count": 48,
   "metadata": {},
   "outputs": [
    {
     "data": {
      "text/plain": [
       "LogisticRegression(C=1.0, class_weight=None, dual=False, fit_intercept=True,\n",
       "                   intercept_scaling=1, l1_ratio=None, max_iter=10000,\n",
       "                   multi_class='auto', n_jobs=None, penalty='l2',\n",
       "                   random_state=None, solver='lbfgs', tol=0.0001, verbose=0,\n",
       "                   warm_start=False)"
      ]
     },
     "execution_count": 48,
     "metadata": {},
     "output_type": "execute_result"
    }
   ],
   "source": [
    "# likes_model\n",
    "\n",
    "# with open('likes_model.pikl', 'wb') as f:\n",
    "#         pickle.dump(likes_model, f)\n",
    "\n",
    "# with open('likes_model.pikl', 'rb') as f:\n",
    "#     likes_model2 = pickle.load(f)\n",
    "    \n",
    "# likes_model2"
   ]
  },
  {
   "cell_type": "markdown",
   "metadata": {},
   "source": [
    "## Results"
   ]
  },
  {
   "cell_type": "code",
   "execution_count": 49,
   "metadata": {},
   "outputs": [
    {
     "name": "stdout",
     "output_type": "stream",
     "text": [
      "Retweets Train accuracy: -31.648\n",
      "Retweets Test accuracy: -3.153\n",
      "Likes Train accuracy: 1.000\n",
      "Likes Test accuracy: 0.200\n"
     ]
    }
   ],
   "source": [
    "print('Retweets Train accuracy: %.3f' % retweets_model.score(X_train, y_retweets_train))\n",
    "print('Retweets Test accuracy: %.3f' % retweets_model.score(X_test, y_retweets_test))\n",
    "\n",
    "print('Likes Train accuracy: %.3f' % likes_model.score(X_train, y_likes_train))\n",
    "print('Likes Test accuracy: %.3f' % likes_model.score(X_test, y_likes_test))"
   ]
  },
  {
   "cell_type": "code",
   "execution_count": 50,
   "metadata": {},
   "outputs": [],
   "source": [
    "# y_retweets[0:10]"
   ]
  },
  {
   "cell_type": "code",
   "execution_count": 52,
   "metadata": {},
   "outputs": [
    {
     "data": {
      "text/plain": [
       "('predicted likes', 11, array([12]))"
      ]
     },
     "execution_count": 52,
     "metadata": {},
     "output_type": "execute_result"
    }
   ],
   "source": [
    "def predict_retweets_one_embedding(embdng):\n",
    "    \"\"\"Use model to predict based on one embedding.\"\"\"\n",
    "    return retweets_model.predict(embdng)[0]\n",
    "\n",
    "def predict_retweets_one_by_index(embeddings_array, idx):\n",
    "    \"\"\"Use model to predict based on one embedding,\n",
    "    selected by index from a list of embeddings.\"\"\"\n",
    "    return ('predicted retweets', \n",
    "            predict_retweets_one_embedding(embeddings_array[idx].reshape(1,-1)), \n",
    "            'actual', y_retweets[idx])\n",
    "\n",
    "\n",
    "def predict_likes_one_embedding(embdng):\n",
    "    \"\"\"Use model to predict based on one embedding.\"\"\"\n",
    "    return likes_model.predict(embdng)[0]\n",
    "\n",
    "def predict_likes_one_by_index(embeddings_array, idx):\n",
    "    \"\"\"Use model to predict based on one embedding,\n",
    "    selected by index from a list of embeddings.\"\"\"\n",
    "    return  ('predicted likes', \n",
    "             predict_likes_one_embedding(embeddings_array[idx].reshape(1,-1)),\n",
    "             y_likes[idx])\n",
    "             \n",
    "\n",
    "foo = X_merged.values\n",
    "predict_retweets_one_by_index(foo,5)\n",
    "predict_likes_one_by_index(foo,5)"
   ]
  },
  {
   "cell_type": "code",
   "execution_count": null,
   "metadata": {},
   "outputs": [],
   "source": []
  }
 ],
 "metadata": {
  "kernelspec": {
   "display_name": "Python 3",
   "language": "python",
   "name": "python3"
  },
  "language_info": {
   "codemirror_mode": {
    "name": "ipython",
    "version": 3
   },
   "file_extension": ".py",
   "mimetype": "text/x-python",
   "name": "python",
   "nbconvert_exporter": "python",
   "pygments_lexer": "ipython3",
   "version": "3.7.6"
  }
 },
 "nbformat": 4,
 "nbformat_minor": 4
}

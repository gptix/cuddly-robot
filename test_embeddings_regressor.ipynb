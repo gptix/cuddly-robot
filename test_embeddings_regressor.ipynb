{
 "cells": [
  {
   "cell_type": "markdown",
   "metadata": {},
   "source": [
    "# Train a regressor on a set of embeddings of tweet texts\n",
    "\n",
    "Use **GetOldTweets3** library (available via Pypi)"
   ]
  },
  {
   "cell_type": "markdown",
   "metadata": {},
   "source": [
    "## Install required libraries"
   ]
  },
  {
   "cell_type": "code",
   "execution_count": 1,
   "metadata": {},
   "outputs": [],
   "source": [
    "# !pip install GetOldTweets3\n",
    "import GetOldTweets3 as got"
   ]
  },
  {
   "cell_type": "code",
   "execution_count": 2,
   "metadata": {},
   "outputs": [],
   "source": [
    "# !pip install basilica # might have to install, if not available in underlying environment"
   ]
  },
  {
   "cell_type": "code",
   "execution_count": 3,
   "metadata": {},
   "outputs": [],
   "source": [
    "import pandas as pd\n",
    "# import json\n",
    "import numpy as np\n",
    "import sklearn.linear_model\n",
    "import sklearn.preprocessing\n",
    "import sklearn.decomposition\n",
    "import basilica\n",
    "import pickle\n",
    "from pathlib import Path\n",
    "import os\n",
    "import matplotlib.pyplot as plt\n",
    "import seaborn as sns"
   ]
  },
  {
   "cell_type": "markdown",
   "metadata": {},
   "source": [
    "## Configure"
   ]
  },
  {
   "cell_type": "code",
   "execution_count": 4,
   "metadata": {},
   "outputs": [
    {
     "data": {
      "text/plain": [
       "'/home/gt/gitstuff/cuddly-robot'"
      ]
     },
     "execution_count": 4,
     "metadata": {},
     "output_type": "execute_result"
    }
   ],
   "source": [
    "twitter_user_name = 'LambdaSchool'\n",
    "count = 100 # during testing\n",
    "API_KEY =  'd54eac04-1ed6-3d8d-8a46-b319018f2faa'\n",
    "\n",
    "os.getcwd()"
   ]
  },
  {
   "cell_type": "markdown",
   "metadata": {},
   "source": [
    "## Data Engineering Functions"
   ]
  },
  {
   "cell_type": "code",
   "execution_count": 5,
   "metadata": {},
   "outputs": [],
   "source": [
    "def retrieve_tweets(twitter_user_name, count):\n",
    "    #  Create object to execute queries\n",
    "    querySpecs = got.manager.TweetCriteria().setUsername(twitter_user_name).setMaxTweets(count)\n",
    "    print('Retrieving tweets via GOT3')\n",
    "    # retrieve tweets\n",
    "    return got.manager.TweetManager.getTweets(querySpecs)\n",
    "\n",
    "def tweet_to_dict(twt):\n",
    "    \"\"\"Munges a twt object into a dict, using names of attributes of\n",
    "    object as keys in dict.\n",
    "    'favorites' is a count of 'likes'\n",
    "    'hashtags' is a string that is a space-separated series of hashtags\n",
    "    'mentions' is a string that is a space-separated series of ats (@s)\n",
    "    'urls' is a string that is a space-separated series of URLs\n",
    "    \"\"\"\n",
    "    return {'date' : twt.date\n",
    "            , 'favorites' : twt.favorites\n",
    "            , 'formatted_date' : twt.formatted_date\n",
    "            , 'geo' : twt.geo\n",
    "            , 'hashtags' : twt.hashtags\n",
    "            , 'id' : twt.id\n",
    "            , 'mentions' : twt.mentions\n",
    "            , 'permalink' : twt.permalink\n",
    "            , 'replies' : twt.replies\n",
    "            , 'retweets' : twt.retweets\n",
    "            , 'text' : twt.text\n",
    "            , 'to' : twt.to\n",
    "            , 'urls' : twt.urls\n",
    "            , 'username' : twt.username}   \n",
    "\n",
    "def munge_date(dt):\n",
    "    \"\"\"Munges a datetime.datetime object into a dict, using names of attributes of\n",
    "    object as keys in dict.\n",
    "    'day_of_week' is [0-7] with 0 being 'Monday'\n",
    "    'minute_of_day' is count of minutes from midnight\"\"\"\n",
    "    return {'year' : dt.year \n",
    "            , 'month' : dt.month\n",
    "            , 'day' : dt.day\n",
    "            , 'day_of_week' : dt.weekday()\n",
    "            , 'hour' : dt.hour\n",
    "            , 'minute' : dt.minute\n",
    "            , 'minute_of_day' : (60 * dt.hour) + dt.minute}\n",
    "\n",
    "def join_dicts(got_tweet_object):\n",
    "    \"\"\"Returns a dict that is the result of joining \n",
    "    - a dict that is the result of parsing a GOT object\n",
    "      to  dict, and\n",
    "    - a dict that is the result of munging the a datetime.date\n",
    "      into a dict.\"\"\"\n",
    "    return {**tweet_to_dict(got_tweet_object), **munge_date(got_tweet_object.date)}\n",
    "\n",
    "def munge_tweet_objects(tweet_objects):\n",
    "    return list(map(join_dicts, tweet_objects))\n"
   ]
  },
  {
   "cell_type": "code",
   "execution_count": 6,
   "metadata": {},
   "outputs": [],
   "source": [
    "# get a set of tweets\n",
    "pickled_fn = './r_tweets.pickle'\n",
    "pickled_path = Path(pickled_fn)\n",
    "\n",
    "# pickled_path.is_file()\n"
   ]
  },
  {
   "cell_type": "code",
   "execution_count": 9,
   "metadata": {},
   "outputs": [
    {
     "name": "stdout",
     "output_type": "stream",
     "text": [
      "Retrieving tweets via GOT3\n",
      "retrieving embeddings via basilica\n"
     ]
    },
    {
     "data": {
      "text/html": [
       "<div>\n",
       "<style scoped>\n",
       "    .dataframe tbody tr th:only-of-type {\n",
       "        vertical-align: middle;\n",
       "    }\n",
       "\n",
       "    .dataframe tbody tr th {\n",
       "        vertical-align: top;\n",
       "    }\n",
       "\n",
       "    .dataframe thead th {\n",
       "        text-align: right;\n",
       "    }\n",
       "</style>\n",
       "<table border=\"1\" class=\"dataframe\">\n",
       "  <thead>\n",
       "    <tr style=\"text-align: right;\">\n",
       "      <th></th>\n",
       "      <th>favorites</th>\n",
       "      <th>retweets</th>\n",
       "      <th>day_of_week</th>\n",
       "      <th>minute_of_day</th>\n",
       "      <th>embed_col0</th>\n",
       "      <th>embed_col1</th>\n",
       "      <th>embed_col2</th>\n",
       "      <th>embed_col3</th>\n",
       "      <th>embed_col4</th>\n",
       "      <th>embed_col5</th>\n",
       "      <th>...</th>\n",
       "      <th>embed_col758</th>\n",
       "      <th>embed_col759</th>\n",
       "      <th>embed_col760</th>\n",
       "      <th>embed_col761</th>\n",
       "      <th>embed_col762</th>\n",
       "      <th>embed_col763</th>\n",
       "      <th>embed_col764</th>\n",
       "      <th>embed_col765</th>\n",
       "      <th>embed_col766</th>\n",
       "      <th>embed_col767</th>\n",
       "    </tr>\n",
       "  </thead>\n",
       "  <tbody>\n",
       "    <tr>\n",
       "      <th>0</th>\n",
       "      <td>13</td>\n",
       "      <td>2</td>\n",
       "      <td>6</td>\n",
       "      <td>51</td>\n",
       "      <td>0.452121</td>\n",
       "      <td>-0.152460</td>\n",
       "      <td>0.363199</td>\n",
       "      <td>0.197211</td>\n",
       "      <td>0.167632</td>\n",
       "      <td>-0.398828</td>\n",
       "      <td>...</td>\n",
       "      <td>0.053072</td>\n",
       "      <td>-0.168918</td>\n",
       "      <td>-0.249199</td>\n",
       "      <td>-0.249775</td>\n",
       "      <td>0.083183</td>\n",
       "      <td>0.219856</td>\n",
       "      <td>-0.465787</td>\n",
       "      <td>-0.065341</td>\n",
       "      <td>0.055628</td>\n",
       "      <td>0.656874</td>\n",
       "    </tr>\n",
       "    <tr>\n",
       "      <th>1</th>\n",
       "      <td>10</td>\n",
       "      <td>0</td>\n",
       "      <td>5</td>\n",
       "      <td>1080</td>\n",
       "      <td>0.333295</td>\n",
       "      <td>-0.058294</td>\n",
       "      <td>0.369082</td>\n",
       "      <td>0.374916</td>\n",
       "      <td>0.238671</td>\n",
       "      <td>-0.308427</td>\n",
       "      <td>...</td>\n",
       "      <td>0.048098</td>\n",
       "      <td>-0.260205</td>\n",
       "      <td>-0.238626</td>\n",
       "      <td>-0.237041</td>\n",
       "      <td>0.285211</td>\n",
       "      <td>0.211573</td>\n",
       "      <td>-0.315337</td>\n",
       "      <td>-0.118808</td>\n",
       "      <td>0.053902</td>\n",
       "      <td>0.290706</td>\n",
       "    </tr>\n",
       "    <tr>\n",
       "      <th>2</th>\n",
       "      <td>3</td>\n",
       "      <td>0</td>\n",
       "      <td>5</td>\n",
       "      <td>971</td>\n",
       "      <td>0.283399</td>\n",
       "      <td>0.249766</td>\n",
       "      <td>0.380451</td>\n",
       "      <td>0.107287</td>\n",
       "      <td>-0.151868</td>\n",
       "      <td>-0.390896</td>\n",
       "      <td>...</td>\n",
       "      <td>0.003423</td>\n",
       "      <td>-0.163032</td>\n",
       "      <td>0.009421</td>\n",
       "      <td>0.070432</td>\n",
       "      <td>0.386311</td>\n",
       "      <td>0.162242</td>\n",
       "      <td>-0.557908</td>\n",
       "      <td>-0.074896</td>\n",
       "      <td>-0.015374</td>\n",
       "      <td>0.050820</td>\n",
       "    </tr>\n",
       "    <tr>\n",
       "      <th>3</th>\n",
       "      <td>7</td>\n",
       "      <td>2</td>\n",
       "      <td>4</td>\n",
       "      <td>1380</td>\n",
       "      <td>0.091492</td>\n",
       "      <td>-0.362984</td>\n",
       "      <td>0.255111</td>\n",
       "      <td>0.365398</td>\n",
       "      <td>0.142696</td>\n",
       "      <td>-0.480672</td>\n",
       "      <td>...</td>\n",
       "      <td>0.129827</td>\n",
       "      <td>-0.281333</td>\n",
       "      <td>-0.046512</td>\n",
       "      <td>-0.457974</td>\n",
       "      <td>0.021936</td>\n",
       "      <td>0.079506</td>\n",
       "      <td>-0.301939</td>\n",
       "      <td>0.104239</td>\n",
       "      <td>0.258840</td>\n",
       "      <td>0.517581</td>\n",
       "    </tr>\n",
       "    <tr>\n",
       "      <th>4</th>\n",
       "      <td>13</td>\n",
       "      <td>9</td>\n",
       "      <td>4</td>\n",
       "      <td>937</td>\n",
       "      <td>0.354484</td>\n",
       "      <td>-0.268105</td>\n",
       "      <td>0.173120</td>\n",
       "      <td>0.189463</td>\n",
       "      <td>0.216159</td>\n",
       "      <td>-0.592189</td>\n",
       "      <td>...</td>\n",
       "      <td>-0.031987</td>\n",
       "      <td>0.018888</td>\n",
       "      <td>-0.322313</td>\n",
       "      <td>-0.274837</td>\n",
       "      <td>0.212215</td>\n",
       "      <td>0.537017</td>\n",
       "      <td>-0.423740</td>\n",
       "      <td>-0.006413</td>\n",
       "      <td>0.204176</td>\n",
       "      <td>0.402765</td>\n",
       "    </tr>\n",
       "  </tbody>\n",
       "</table>\n",
       "<p>5 rows × 772 columns</p>\n",
       "</div>"
      ],
      "text/plain": [
       "   favorites  retweets  day_of_week  minute_of_day  embed_col0  embed_col1  \\\n",
       "0         13         2            6             51    0.452121   -0.152460   \n",
       "1         10         0            5           1080    0.333295   -0.058294   \n",
       "2          3         0            5            971    0.283399    0.249766   \n",
       "3          7         2            4           1380    0.091492   -0.362984   \n",
       "4         13         9            4            937    0.354484   -0.268105   \n",
       "\n",
       "   embed_col2  embed_col3  embed_col4  embed_col5  ...  embed_col758  \\\n",
       "0    0.363199    0.197211    0.167632   -0.398828  ...      0.053072   \n",
       "1    0.369082    0.374916    0.238671   -0.308427  ...      0.048098   \n",
       "2    0.380451    0.107287   -0.151868   -0.390896  ...      0.003423   \n",
       "3    0.255111    0.365398    0.142696   -0.480672  ...      0.129827   \n",
       "4    0.173120    0.189463    0.216159   -0.592189  ...     -0.031987   \n",
       "\n",
       "   embed_col759  embed_col760  embed_col761  embed_col762  embed_col763  \\\n",
       "0     -0.168918     -0.249199     -0.249775      0.083183      0.219856   \n",
       "1     -0.260205     -0.238626     -0.237041      0.285211      0.211573   \n",
       "2     -0.163032      0.009421      0.070432      0.386311      0.162242   \n",
       "3     -0.281333     -0.046512     -0.457974      0.021936      0.079506   \n",
       "4      0.018888     -0.322313     -0.274837      0.212215      0.537017   \n",
       "\n",
       "   embed_col764  embed_col765  embed_col766  embed_col767  \n",
       "0     -0.465787     -0.065341      0.055628      0.656874  \n",
       "1     -0.315337     -0.118808      0.053902      0.290706  \n",
       "2     -0.557908     -0.074896     -0.015374      0.050820  \n",
       "3     -0.301939      0.104239      0.258840      0.517581  \n",
       "4     -0.423740     -0.006413      0.204176      0.402765  \n",
       "\n",
       "[5 rows x 772 columns]"
      ]
     },
     "execution_count": 9,
     "metadata": {},
     "output_type": "execute_result"
    }
   ],
   "source": [
    "retrieved_tweets = retrieve_tweets(twitter_user_name, count)\n",
    "tweet_dicts = munge_tweet_objects(retrieved_tweets)\n",
    "\n",
    "# create a df of embeddings of the texts\n",
    "\n",
    "# get texts for which to get embeddings\n",
    "tweet_texts = [tweet.text for tweet in retrieved_tweets]\n",
    "\n",
    "# get embeddings\n",
    "print('retrieving embeddings via basilica')\n",
    "with basilica.Connection(API_KEY) as conn:\n",
    "    embeddings = list(conn.embed_sentences(tweet_texts))\n",
    "\n",
    "# create dataframe holding embeddings\n",
    "embedding_vals_colnames = ['embed_col' + str(i) for i in range(len(embeddings[0]))]\n",
    "embeddings_df = pd.DataFrame(embeddings, columns=embedding_vals_colnames)\n",
    "\n",
    "# Define columns to be excluded from the dataframe.\n",
    "# Datetime fields used to calculate minute of day and day of week are no longer needed.\n",
    "# I do not drop retweets or favorites because they will be target.\n",
    "columns_not_needed = ['id', 'hashtags', 'replies', 'text', 'mentions', 'to', 'urls', \n",
    "                      'year', 'month', 'day', 'date', 'formatted_date', 'permalink', \n",
    "                      'username', 'hour', 'minute', 'geo']\n",
    "\n",
    "times_df = pd.DataFrame.from_records(tweet_dicts,  exclude=columns_not_needed)\n",
    "\n",
    "merged_df = pd.concat([times_df, embeddings_df], axis=1)\n",
    "merged_df.head()\n"
   ]
  },
  {
   "cell_type": "markdown",
   "metadata": {},
   "source": [
    "## Split into X matrix and y vectors"
   ]
  },
  {
   "cell_type": "code",
   "execution_count": 24,
   "metadata": {},
   "outputs": [],
   "source": [
    "# use PowerTransformer to remove right skew in target data\n",
    "from sklearn.preprocessing import power_transform\n",
    "def transform(vector):\n",
    "    return power_transform(vector.reshape(-1, 1), method='yeo-johnson')"
   ]
  },
  {
   "cell_type": "code",
   "execution_count": 26,
   "metadata": {},
   "outputs": [
    {
     "data": {
      "text/plain": [
       "array([2, 0, 0, 2, 9])"
      ]
     },
     "execution_count": 26,
     "metadata": {},
     "output_type": "execute_result"
    }
   ],
   "source": [
    "y_vector_likes = merged_df['favorites'].fillna(0).values\n",
    "y_vector_likes_transformed = transform(y_vector_likes)\n",
    "# y_vector_likes[:5]\n",
    "\n",
    "y_vector_retweets = merged_df['retweets'].fillna(0).values\n",
    "y_vector_retweets_transformed = transform(y_vector_retweets)\n",
    "# y_vector_retweets[:5]"
   ]
  },
  {
   "cell_type": "code",
   "execution_count": 27,
   "metadata": {},
   "outputs": [
    {
     "data": {
      "text/plain": [
       "770"
      ]
     },
     "execution_count": 27,
     "metadata": {},
     "output_type": "execute_result"
    }
   ],
   "source": [
    "X_matrix = merged_df.drop(columns=['favorites', 'retweets']).values\n",
    "len(X_matrix[0])"
   ]
  },
  {
   "cell_type": "code",
   "execution_count": 33,
   "metadata": {},
   "outputs": [
    {
     "data": {
      "image/png": "[encoded data removed]",
      "text/plain": [
       "<Figure size 432x288 with 1 Axes>"
      ]
     },
     "metadata": {
      "needs_background": "light"
     },
     "output_type": "display_data"
    }
   ],
   "source": [
    "pd.DataFrame(y_vector_likes_transformed).hist();"
   ]
  },
  {
   "cell_type": "code",
   "execution_count": 32,
   "metadata": {},
   "outputs": [
    {
     "data": {
      "image/png": "[encoded data removed]",
      "text/plain": [
       "<Figure size 432x288 with 1 Axes>"
      ]
     },
     "metadata": {
      "needs_background": "light"
     },
     "output_type": "display_data"
    }
   ],
   "source": [
    "pd.DataFrame(y_vector_retweets_transformed).hist();"
   ]
  },
  {
   "cell_type": "markdown",
   "metadata": {},
   "source": [
    "## Training Regressors"
   ]
  },
  {
   "cell_type": "code",
   "execution_count": 34,
   "metadata": {},
   "outputs": [],
   "source": [
    "import sklearn.linear_model\n",
    "import sklearn.preprocessing\n",
    "import sklearn.model_selection"
   ]
  },
  {
   "cell_type": "code",
   "execution_count": 36,
   "metadata": {},
   "outputs": [],
   "source": [
    "X_train, X_test = sklearn.model_selection.train_test_split(X_matrix, random_state=72)"
   ]
  },
  {
   "cell_type": "code",
   "execution_count": 37,
   "metadata": {},
   "outputs": [],
   "source": [
    "y_retweets_train, y_retweets_test = sklearn.model_selection.train_test_split(y_vector_retweets, random_state=72)"
   ]
  },
  {
   "cell_type": "code",
   "execution_count": 38,
   "metadata": {},
   "outputs": [],
   "source": [
    "y_likes_train, y_likes_test = sklearn.model_selection.train_test_split(y_vector_likes, random_state=72)"
   ]
  },
  {
   "cell_type": "code",
   "execution_count": 69,
   "metadata": {},
   "outputs": [
    {
     "data": {
      "text/plain": [
       "LogisticRegression(C=1.0, class_weight=None, dual=False, fit_intercept=True,\n",
       "                   intercept_scaling=1, l1_ratio=None, max_iter=5000,\n",
       "                   multi_class='auto', n_jobs=None, penalty='l2',\n",
       "                   random_state=None, solver='lbfgs', tol=0.0001, verbose=0,\n",
       "                   warm_start=False)"
      ]
     },
     "execution_count": 69,
     "metadata": {},
     "output_type": "execute_result"
    }
   ],
   "source": [
    "retweets_model = sklearn.linear_model.LogisticRegression(max_iter=5000)\n",
    "\n",
    "# print(type(y_likes_train))\n",
    "# print(type(y_likes_train.values))\n",
    "# print(type(y_likes_train.values[0]))\n",
    "\n",
    "retweets_model.fit(X_train, y_retweets_train)"
   ]
  },
  {
   "cell_type": "code",
   "execution_count": 72,
   "metadata": {},
   "outputs": [
    {
     "data": {
      "text/plain": [
       "LogisticRegression(C=1.0, class_weight=None, dual=False, fit_intercept=True,\n",
       "                   intercept_scaling=1, l1_ratio=None, max_iter=10000,\n",
       "                   multi_class='auto', n_jobs=None, penalty='l2',\n",
       "                   random_state=None, solver='lbfgs', tol=0.0001, verbose=0,\n",
       "                   warm_start=False)"
      ]
     },
     "execution_count": 72,
     "metadata": {},
     "output_type": "execute_result"
    }
   ],
   "source": [
    "likes_model = sklearn.linear_model.LogisticRegression(max_iter=10000)\n",
    "\n",
    "likes_model.fit(X_train, y_likes_train)\n",
    "# X_train"
   ]
  },
  {
   "cell_type": "code",
   "execution_count": 71,
   "metadata": {},
   "outputs": [],
   "source": [
    "# likes_model\n",
    "\n",
    "# with open('likes_model.pikl', 'wb') as f:\n",
    "#         pickle.dump(likes_model, f)\n",
    "\n",
    "# with open('likes_model.pikl', 'rb') as f:\n",
    "#     likes_model2 = pickle.load(f)\n",
    "    \n",
    "# likes_model2"
   ]
  },
  {
   "cell_type": "markdown",
   "metadata": {},
   "source": [
    "## Results"
   ]
  },
  {
   "cell_type": "code",
   "execution_count": 73,
   "metadata": {},
   "outputs": [
    {
     "name": "stdout",
     "output_type": "stream",
     "text": [
      "Retweets Train accuracy: 1.000\n",
      "Retweets Test accuracy: 0.360\n",
      "Likes Train accuracy: 1.000\n",
      "Likes Test accuracy: 0.160\n"
     ]
    }
   ],
   "source": [
    "print('Retweets Train accuracy: %.3f' % retweets_model.score(X_train, y_retweets_train))\n",
    "print('Retweets Test accuracy: %.3f' % retweets_model.score(X_test, y_retweets_test))\n",
    "\n",
    "print('Likes Train accuracy: %.3f' % likes_model.score(X_train, y_likes_train))\n",
    "print('Likes Test accuracy: %.3f' % likes_model.score(X_test, y_likes_test))"
   ]
  },
  {
   "cell_type": "code",
   "execution_count": null,
   "metadata": {},
   "outputs": [],
   "source": [
    "# y_retweets[0:10]"
   ]
  },
  {
   "cell_type": "code",
   "execution_count": 94,
   "metadata": {},
   "outputs": [
    {
     "data": {
      "text/plain": [
       "'\"It\\'s times like these that make me feel blessed to have gone to K-12 in high school, and Lambda School today. E-Learning is the future of quality, custom-tailored education,\" shares Lambda student Kenneth Barrett. Apply now: https://bit.ly/36G5Bmn #FutureOfEducation'"
      ]
     },
     "execution_count": 94,
     "metadata": {},
     "output_type": "execute_result"
    }
   ],
   "source": [
    "def predict_one_from_X_matrix(model, idx):\n",
    "    \"\"\"Return a prediction, from a specified model, for\n",
    "    a set of observations from the X_matrix.\"\"\"\n",
    "    return model.predict([X_matrix[idx]])[0]\n",
    "\n",
    "predict_one_from_X_matrix(retweets_model, 0)\n",
    "\n",
    "predict_one_from_X_matrix(likes_model, 0)\n",
    "\n",
    "# tweet_texts[0]"
   ]
  },
  {
   "cell_type": "code",
   "execution_count": 107,
   "metadata": {},
   "outputs": [
    {
     "data": {
      "text/plain": [
       "array([21])"
      ]
     },
     "execution_count": 107,
     "metadata": {},
     "output_type": "execute_result"
    }
   ],
   "source": [
    "def get_one_embedding(txt):\n",
    "    with basilica.Connection(API_KEY) as conn:\n",
    "        mbdg = conn.embed_sentence(txt)\n",
    "    return mbdg \n",
    "\n",
    "# my_mbdng = get_one_embedding(\"This is a test tweet\")\n",
    "# my_mbdng\n",
    "\n",
    "def make_array_for_prediction(txt, dow=0, mod=(12*60)):\n",
    "#     return np.concatenate(np.array([mod, dow]), \n",
    "    return np.array([mod, dow] + get_one_embedding(txt)).reshape(1,-1)\n",
    "\n",
    "make_array_for_prediction(\"This is a test tweet\")\n",
    "\n",
    "tx = '\"It\\'s times like these that make me feel blessed to have gone to K-12 in high school, and Lambda School today. E-Learning is the future of quality, custom-tailored education,\" shares Lambda student Kenneth Barrett. Apply now: https://bit.ly/36G5Bmn #FutureOfEducation'\n",
    "\n",
    "likes_model.predict(make_array_for_prediction(tx))"
   ]
  },
  {
   "cell_type": "code",
   "execution_count": 117,
   "metadata": {},
   "outputs": [
    {
     "data": {
      "text/plain": [
       "[13,\n",
       " 13,\n",
       " 13,\n",
       " 13,\n",
       " 13,\n",
       " 13,\n",
       " 13,\n",
       " 21,\n",
       " 21,\n",
       " 21,\n",
       " 21,\n",
       " 21,\n",
       " 21,\n",
       " 21,\n",
       " 21,\n",
       " 21,\n",
       " 21,\n",
       " 21,\n",
       " 21,\n",
       " 21,\n",
       " 21,\n",
       " 21,\n",
       " 21,\n",
       " 21,\n",
       " 21,\n",
       " 21,\n",
       " 21,\n",
       " 21,\n",
       " 21,\n",
       " 21,\n",
       " 21,\n",
       " 21,\n",
       " 21,\n",
       " 21,\n",
       " 21,\n",
       " 21,\n",
       " 21,\n",
       " 21,\n",
       " 21,\n",
       " 21,\n",
       " 21,\n",
       " 21,\n",
       " 21,\n",
       " 21,\n",
       " 21,\n",
       " 21,\n",
       " 21,\n",
       " 21]"
      ]
     },
     "execution_count": 117,
     "metadata": {},
     "output_type": "execute_result"
    }
   ],
   "source": [
    "# out = []\n",
    "# for t in range(0,1440,30):\n",
    "#     out.append([\n",
    "        \n",
    "[likes_model.predict(make_array_for_prediction(tx, mod=t))[0] for t in range(0,1440,30)]\n",
    "    \n",
    "# out"
   ]
  },
  {
   "cell_type": "code",
   "execution_count": null,
   "metadata": {},
   "outputs": [],
   "source": []
  }
 ],
 "metadata": {
  "kernelspec": {
   "display_name": "Python 3",
   "language": "python",
   "name": "python3"
  },
  "language_info": {
   "codemirror_mode": {
    "name": "ipython",
    "version": 3
   },
   "file_extension": ".py",
   "mimetype": "text/x-python",
   "name": "python",
   "nbconvert_exporter": "python",
   "pygments_lexer": "ipython3",
   "version": "3.7.6"
  }
 },
 "nbformat": 4,
 "nbformat_minor": 4
}
